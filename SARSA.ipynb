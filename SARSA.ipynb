{
  "nbformat": 4,
  "nbformat_minor": 0,
  "metadata": {
    "colab": {
      "provenance": []
    },
    "kernelspec": {
      "name": "python3",
      "display_name": "Python 3"
    },
    "language_info": {
      "name": "python"
    }
  },
  "cells": [
    {
      "cell_type": "code",
      "execution_count": 1,
      "metadata": {
        "colab": {
          "base_uri": "https://localhost:8080/",
          "height": 449
        },
        "id": "aw81zi15R4Bu",
        "outputId": "4eee8e71-1f6d-49fe-ab86-c089eab65915"
      },
      "outputs": [
        {
          "output_type": "display_data",
          "data": {
            "text/plain": [
              "<Figure size 640x480 with 1 Axes>"
            ],
            "image/png": "[encoded data removed]"
          },
          "metadata": {}
        }
      ],
      "source": [
        "import numpy as np\n",
        "import matplotlib.pyplot as plt\n",
        "\n",
        "# Initialize the Q-table\n",
        "num_states = 10\n",
        "num_actions = 4\n",
        "Q = np.zeros((num_states, num_actions))\n",
        "\n",
        "# Define the epsilon-greedy policy\n",
        "epsilon = 0.9\n",
        "\n",
        "# Define the learning parameters\n",
        "alpha = 0.85\n",
        "gamma = 0.95\n",
        "\n",
        "# Initialize the rewards list\n",
        "rewards = []\n",
        "\n",
        "# Iterate through episodes\n",
        "for episode in range(10000):\n",
        "    state = np.random.randint(0, num_states)\n",
        "    total_reward = 0\n",
        "\n",
        "    # Iterate through steps\n",
        "    for step in range(100):\n",
        "        # Choose an action based on the epsilon-greedy policy\n",
        "        if np.random.rand() < epsilon:\n",
        "            action = np.random.randint(0, num_actions)\n",
        "        else:\n",
        "            action = np.argmax(Q[state, :])\n",
        "\n",
        "        # Update the Q-value\n",
        "        next_state = np.random.randint(0, num_states)\n",
        "        next_action = np.argmax(Q[next_state, :])\n",
        "        Q[state, action] = Q[state, action] + alpha * (1 + gamma * Q[next_state, next_action] - Q[state, action])\n",
        "\n",
        "        # Update the state\n",
        "        state = next_state\n",
        "\n",
        "        # Add the reward to the total reward\n",
        "        total_reward += 1\n",
        "\n",
        "    # Add the total reward to the rewards list\n",
        "    rewards.append(total_reward)\n",
        "\n",
        "# Plot the rewards\n",
        "plt.plot(rewards)\n",
        "plt.xlabel('Episode')\n",
        "plt.ylabel('Reward')\n",
        "plt.show()"
      ]
    }
  ]
}